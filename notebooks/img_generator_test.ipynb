{
 "cells": [
  {
   "cell_type": "code",
   "execution_count": 11,
   "metadata": {},
   "outputs": [
    {
     "name": "stdout",
     "output_type": "stream",
     "text": [
      "The autoreload extension is already loaded. To reload it, use:\n",
      "  %reload_ext autoreload\n"
     ]
    }
   ],
   "source": [
    "%load_ext autoreload\n",
    "%autoreload 2\n",
    "import sys\n",
    "import os\n",
    "\n",
    "while not os.getcwd().endswith('image_drift_generator'):\n",
    "    os.chdir('..')\n",
    "    print(os.getcwd())\n",
    "\n",
    "from image_drift_generator.image_generator import ImageDatasetGenerator\n",
    "from image_drift_generator.image_factory import *\n",
    "import warnings\n",
    "import polars as pl\n",
    "\n",
    "warnings.filterwarnings('ignore')\n",
    "# from alibi_detect.cd import MMDDrift\n",
    "# set tight layout"
   ]
  },
  {
   "cell_type": "code",
   "execution_count": null,
   "metadata": {},
   "outputs": [],
   "source": [
    "img_path = '../../data/places/'\n",
    "seed = 42\n",
    "num_samples = 32\n",
    "compute_embeddings = True"
   ]
  },
  {
   "cell_type": "code",
   "execution_count": null,
   "metadata": {},
   "outputs": [],
   "source": [
    "image_generator = ImageDatasetGenerator(\n",
    "    seed=seed, input_path=img_path, compute_embeddings=compute_embeddings\n",
    ")"
   ]
  },
  {
   "cell_type": "code",
   "execution_count": 27,
   "metadata": {},
   "outputs": [],
   "source": [
    "all_transform = [\n",
    "    TransformInfo(\n",
    "        transf_type=ImageTransform.ROTATE,\n",
    "        drift_level=0.9,\n",
    "    ),\n",
    "    TransformInfo(\n",
    "        transf_type=ImageTransform.BRIGHTNESS,\n",
    "        drift_level=0.3,\n",
    "    ),\n",
    "    TransformInfo(\n",
    "        transf_type=ImageTransform.CONTRAST,\n",
    "        drift_level=0.1,\n",
    "    ),\n",
    "    TransformInfo(\n",
    "        transf_type=ImageTransform.HUE,\n",
    "        drift_level=0.1,\n",
    "    ),\n",
    "    TransformInfo(\n",
    "        transf_type=ImageTransform.SATURATION,\n",
    "        drift_level=0.5,\n",
    "    ),\n",
    "    TransformInfo(\n",
    "        transf_type=ImageTransform.GAUSSIAN_BLUR,\n",
    "        drift_level=0.1,\n",
    "    ),\n",
    "    TransformInfo(\n",
    "        transf_type=ImageTransform.GAUSSIAN_NOISE,\n",
    "        drift_level=1.0,\n",
    "    ),\n",
    "]"
   ]
  },
  {
   "cell_type": "code",
   "execution_count": 28,
   "metadata": {},
   "outputs": [],
   "source": [
    "image_generator.add_abrupt_drift(\n",
    "    transform_list=all_transform,\n",
    ")"
   ]
  },
  {
   "cell_type": "code",
   "execution_count": 29,
   "metadata": {},
   "outputs": [
    {
     "data": {
      "text/plain": [
       "Compose(\n",
       "      RandomRotation(degrees=[-81.0, 81.0], interpolation=InterpolationMode.NEAREST, expand=False, fill=0)\n",
       "      ColorJitter(brightness=(0.10000000000000009, 1.9))\n",
       "      ColorJitter(contrast=(0.7, 1.3))\n",
       "      ColorJitter(hue=(-0.05, 0.05))\n",
       "      ColorJitter(saturation=(0.0, 8.5))\n",
       "      GaussianBlur(kernel_size=(5, 5), sigma=[0.30000000000000004, 0.30000000000000004])\n",
       "      GaussianNoise(mean=0.1, sigma=0.5, clip=True)\n",
       ")"
      ]
     },
     "execution_count": 29,
     "metadata": {},
     "output_type": "execute_result"
    }
   ],
   "source": [
    "image_generator.transform_pipeline"
   ]
  },
  {
   "cell_type": "code",
   "execution_count": null,
   "metadata": {},
   "outputs": [
    {
     "name": "stderr",
     "output_type": "stream",
     "text": [
      "\u001b[32m2025-02-17 00:07:21.949\u001b[0m | \u001b[1mINFO    \u001b[0m | \u001b[36mimage_drift_generator.image_generator\u001b[0m:\u001b[36m_make_archive\u001b[0m:\u001b[36m364\u001b[0m - \u001b[1mArchive created successfully: data/places/places_generated/sampled_images.zip\u001b[0m\n",
      "February 17, 2025 > 00:07:21 | INFO | Archive created successfully: data/places/places_generated/sampled_images.zip | {}\n",
      "\u001b[32m2025-02-17 00:07:21.954\u001b[0m | \u001b[1mINFO    \u001b[0m | \u001b[36mimage_drift_generator.image_generator\u001b[0m:\u001b[36m_make_archive\u001b[0m:\u001b[36m374\u001b[0m - \u001b[1mOriginal folder 'data/places/places_generated/sampled_images' deleted after zipping.\u001b[0m\n",
      "February 17, 2025 > 00:07:21 | INFO | Original folder 'data/places/places_generated/sampled_images' deleted after zipping. | {}\n"
     ]
    }
   ],
   "source": [
    "data_category = image_generator.sample(\n",
    "    num_samples, output_path='data/places/places_generated/'\n",
    ")"
   ]
  },
  {
   "cell_type": "code",
   "execution_count": 31,
   "metadata": {},
   "outputs": [
    {
     "name": "stdout",
     "output_type": "stream",
     "text": [
      "shape: (32, 3)\n",
      "┌───────────┬───────────┬───────┐\n",
      "│ sample-id ┆ timestamp ┆ label │\n",
      "│ ---       ┆ ---       ┆ ---   │\n",
      "│ i64       ┆ f64       ┆ i64   │\n",
      "╞═══════════╪═══════════╪═══════╡\n",
      "│ 0         ┆ 1.7172e9  ┆ 0     │\n",
      "│ 1         ┆ 1.7172e9  ┆ 1     │\n",
      "│ 2         ┆ 1.7172e9  ┆ 1     │\n",
      "│ 3         ┆ 1.7172e9  ┆ 1     │\n",
      "│ 4         ┆ 1.7172e9  ┆ 1     │\n",
      "│ …         ┆ …         ┆ …     │\n",
      "│ 27        ┆ 1.7173e9  ┆ 0     │\n",
      "│ 28        ┆ 1.7173e9  ┆ 0     │\n",
      "│ 29        ┆ 1.7173e9  ┆ 1     │\n",
      "│ 30        ┆ 1.7173e9  ┆ 0     │\n",
      "│ 31        ┆ 1.7173e9  ┆ 0     │\n",
      "└───────────┴───────────┴───────┘\n"
     ]
    }
   ],
   "source": [
    "print(data_category.target)"
   ]
  },
  {
   "cell_type": "code",
   "execution_count": 32,
   "metadata": {},
   "outputs": [
    {
     "name": "stdout",
     "output_type": "stream",
     "text": [
      "shape: (32, 3)\n",
      "┌───────────┬───────────┬─────────────────────────────────┐\n",
      "│ sample-id ┆ timestamp ┆ file_name                       │\n",
      "│ ---       ┆ ---       ┆ ---                             │\n",
      "│ i64       ┆ f64       ┆ str                             │\n",
      "╞═══════════╪═══════════╪═════════════════════════════════╡\n",
      "│ 0         ┆ 1.7172e9  ┆ e67a7559-5aad-4714-88dd-871b55… │\n",
      "│ 1         ┆ 1.7172e9  ┆ e2a5dce3-a12f-4cb2-a61a-775dd8… │\n",
      "│ 2         ┆ 1.7172e9  ┆ 0b2ad164-fa92-4a93-a782-416867… │\n",
      "│ 3         ┆ 1.7172e9  ┆ a6d55d63-3b42-4eb7-99d6-7771ec… │\n",
      "│ 4         ┆ 1.7172e9  ┆ 0760a200-8f48-4b86-a734-ef3036… │\n",
      "│ …         ┆ …         ┆ …                               │\n",
      "│ 27        ┆ 1.7173e9  ┆ 520e6397-37fa-4521-a596-92b87d… │\n",
      "│ 28        ┆ 1.7173e9  ┆ 28336beb-7ea7-43d4-9935-48ceaf… │\n",
      "│ 29        ┆ 1.7173e9  ┆ 4ae3421d-f4be-47ad-aeea-ebc52e… │\n",
      "│ 30        ┆ 1.7173e9  ┆ f321bc90-12fb-4590-aa5f-07ab5f… │\n",
      "│ 31        ┆ 1.7173e9  ┆ 38979374-9df7-4607-861a-d794eb… │\n",
      "└───────────┴───────────┴─────────────────────────────────┘\n"
     ]
    }
   ],
   "source": [
    "print(data_category.input_mapping)"
   ]
  },
  {
   "cell_type": "code",
   "execution_count": 33,
   "metadata": {},
   "outputs": [
    {
     "name": "stdout",
     "output_type": "stream",
     "text": [
      "data/places/places_generated/embeddings.parquet\n"
     ]
    }
   ],
   "source": [
    "print(data_category.input_embedding_file_path)"
   ]
  },
  {
   "cell_type": "code",
   "execution_count": 34,
   "metadata": {},
   "outputs": [
    {
     "name": "stdout",
     "output_type": "stream",
     "text": [
      "shape: (32, 3)\n",
      "┌───────────┬───────────┬─────────────────────────────────┐\n",
      "│ sample-id ┆ timestamp ┆ embedding                       │\n",
      "│ ---       ┆ ---       ┆ ---                             │\n",
      "│ i64       ┆ f64       ┆ array[f64, 512]                 │\n",
      "╞═══════════╪═══════════╪═════════════════════════════════╡\n",
      "│ 0         ┆ 1.7172e9  ┆ [0.646854, 0.737511, … 0.13151… │\n",
      "│ 1         ┆ 1.7172e9  ┆ [0.395607, 0.753779, … 0.00640… │\n",
      "│ 2         ┆ 1.7172e9  ┆ [0.124174, 0.690031, … 0.00171… │\n",
      "│ 3         ┆ 1.7172e9  ┆ [0.491539, 0.826048, … 0.05988… │\n",
      "│ 4         ┆ 1.7172e9  ┆ [0.381547, 0.728992, … 0.35658… │\n",
      "│ …         ┆ …         ┆ …                               │\n",
      "│ 27        ┆ 1.7173e9  ┆ [0.240201, 0.385757, … 0.00122… │\n",
      "│ 28        ┆ 1.7173e9  ┆ [0.234493, 0.968768, … 0.0]     │\n",
      "│ 29        ┆ 1.7173e9  ┆ [1.592411, 1.461076, … 0.05754… │\n",
      "│ 30        ┆ 1.7173e9  ┆ [0.226647, 0.556803, … 0.12092… │\n",
      "│ 31        ┆ 1.7173e9  ┆ [0.069852, 0.384815, … 0.05021… │\n",
      "└───────────┴───────────┴─────────────────────────────────┘\n"
     ]
    }
   ],
   "source": [
    "print(pl.read_parquet(data_category.input_embedding_file_path))"
   ]
  },
  {
   "cell_type": "code",
   "execution_count": 10,
   "metadata": {},
   "outputs": [
    {
     "name": "stdout",
     "output_type": "stream",
     "text": [
      "zip\n",
      "c:\\Users\\crist\\projects\\image_drift_generator\\data\\places\\places_generated\\sampled_images.zip\n",
      "png\n",
      "True\n",
      "False\n"
     ]
    }
   ],
   "source": [
    "print(data_category.input_folder_type)\n",
    "print(data_category.input_folder)\n",
    "print(data_category.input_file_type)\n",
    "print(data_category.is_input_folder)\n",
    "print(data_category.is_target_folder)\n"
   ]
  },
  {
   "cell_type": "code",
   "execution_count": null,
   "metadata": {},
   "outputs": [],
   "source": []
  }
 ],
 "metadata": {
  "kernelspec": {
   "display_name": ".venv",
   "language": "python",
   "name": "python3"
  },
  "language_info": {
   "codemirror_mode": {
    "name": "ipython",
    "version": 3
   },
   "file_extension": ".py",
   "mimetype": "text/x-python",
   "name": "python",
   "nbconvert_exporter": "python",
   "pygments_lexer": "ipython3",
   "version": "3.12.6"
  }
 },
 "nbformat": 4,
 "nbformat_minor": 2
}
