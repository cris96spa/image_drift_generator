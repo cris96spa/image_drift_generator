{
 "cells": [
  {
   "cell_type": "code",
   "execution_count": null,
   "metadata": {},
   "outputs": [
    {
     "name": "stdout",
     "output_type": "stream",
     "text": [
      "The autoreload extension is already loaded. To reload it, use:\n",
      "  %reload_ext autoreload\n"
     ]
    }
   ],
   "source": [
    "%load_ext autoreload\n",
    "%autoreload 2\n",
    "import sys\n",
    "import os\n",
    "\n",
    "while not os.getcwd().endswith('image_drift_generator'):\n",
    "    os.chdir('..')\n",
    "    print(os.getcwd())\n",
    "import numpy as np\n",
    "import matplotlib.pyplot as plt\n",
    "\n",
    "from tqdm.auto import tqdm\n",
    "import torch\n",
    "import torchvision.transforms.v2 as transforms\n",
    "from torchvision.datasets import ImageFolder\n",
    "from torch.utils.data import DataLoader\n",
    "from torchvision.utils import make_grid\n",
    "import polars as pl\n",
    "\n",
    "from image_drift_generator.image_generator import ImageDatasetGenerator\n",
    "from image_drift_generator.image_factory import *\n",
    "import warnings\n",
    "from torchvision import models\n",
    "import torch.nn as nn\n",
    "\n",
    "%matplotlib inline\n",
    "warnings.filterwarnings('ignore')\n",
    "# from alibi_detect.cd import MMDDrift\n",
    "# set tight layout\n",
    "plt.rcParams.update({'figure.autolayout': True})"
   ]
  },
  {
   "cell_type": "code",
   "execution_count": null,
   "metadata": {},
   "outputs": [
    {
     "name": "stdout",
     "output_type": "stream",
     "text": [
      "Supported device: mps.\n"
     ]
    }
   ],
   "source": [
    "seed = 42\n",
    "if torch.cuda.is_available():\n",
    "    device = torch.device('cuda')\n",
    "elif torch.backends.mps.is_available():\n",
    "    device = torch.device('mps')\n",
    "else:\n",
    "    device = torch.device('cpu')\n",
    "\n",
    "torch.set_default_device(device)\n",
    "print(f'Supported device: {device}.')\n"
   ]
  },
  {
   "cell_type": "code",
   "execution_count": null,
   "metadata": {},
   "outputs": [],
   "source": [
    "mean = [0.485, 0.456, 0.406]\n",
    "std = [0.229, 0.224, 0.225]\n",
    "batch_size = 32"
   ]
  },
  {
   "cell_type": "code",
   "execution_count": null,
   "metadata": {},
   "outputs": [],
   "source": [
    "tensor_transform = transforms.Compose(\n",
    "    [\n",
    "        transforms.Resize((224, 224)),\n",
    "        transforms.ToTensor(),\n",
    "        # transforms.Normalize(mean=mean, std=std)\n",
    "    ]\n",
    ")"
   ]
  },
  {
   "cell_type": "code",
   "execution_count": null,
   "metadata": {},
   "outputs": [],
   "source": [
    "img_path = '../../data/places/'"
   ]
  },
  {
   "cell_type": "code",
   "execution_count": 12,
   "metadata": {},
   "outputs": [],
   "source": [
    "image_generator = ImageDatasetGenerator(\n",
    "    seed=42,\n",
    "    input_path=img_path,\n",
    ")"
   ]
  },
  {
   "cell_type": "code",
   "execution_count": null,
   "metadata": {},
   "outputs": [],
   "source": [
    "all_transform = [\n",
    "    TransformInfo(\n",
    "        transf_type=ImageTransform.ROTATE,\n",
    "        drift_level=0.9,\n",
    "    ),\n",
    "    TransformInfo(\n",
    "        transf_type=ImageTransform.BRIGHTNESS,\n",
    "        drift_level=0.3,\n",
    "    ),\n",
    "    TransformInfo(\n",
    "        transf_type=ImageTransform.CONTRAST,\n",
    "        drift_level=0.1,\n",
    "    ),\n",
    "    TransformInfo(\n",
    "        transf_type=ImageTransform.HUE,\n",
    "        drift_level=0.1,\n",
    "    ),\n",
    "    TransformInfo(\n",
    "        transf_type=ImageTransform.SATURATION,\n",
    "        drift_level=0.5,\n",
    "    ),\n",
    "    TransformInfo(\n",
    "        transf_type=ImageTransform.GAUSSIAN_BLUR,\n",
    "        drift_level=0.1,\n",
    "    ),\n",
    "    TransformInfo(\n",
    "        transf_type=ImageTransform.GAUSSIAN_NOISE,\n",
    "        drift_level=1.0,\n",
    "    ),\n",
    "]"
   ]
  },
  {
   "cell_type": "code",
   "execution_count": 15,
   "metadata": {},
   "outputs": [],
   "source": [
    "image_generator.add_abrupt_drift(\n",
    "    drift_target=DriftTarget.INPUT,\n",
    "    input_drift_type=InputDriftType.IMAGE_AUGMENTATION,\n",
    "    transform_list=all_transform,\n",
    ")"
   ]
  },
  {
   "cell_type": "code",
   "execution_count": 16,
   "metadata": {},
   "outputs": [
    {
     "data": {
      "text/plain": [
       "Compose(\n",
       "      RandomRotation(degrees=[-81.0, 81.0], interpolation=InterpolationMode.NEAREST, expand=False, fill=0)\n",
       "      ColorJitter(brightness=(1.5, 1.5))\n",
       "      ColorJitter(contrast=(0.5, 0.5))\n",
       "      ColorJitter(hue=(0.05, 0.05))\n",
       "      ColorJitter(saturation=(7.5, 7.5))\n",
       "      GaussianBlur(kernel_size=(5, 5), sigma=[0.30000000000000004, 0.30000000000000004])\n",
       "      GaussianNoise(mean=0.1, sigma=0.5, clip=True)\n",
       ")"
      ]
     },
     "execution_count": 16,
     "metadata": {},
     "output_type": "execute_result"
    }
   ],
   "source": [
    "image_generator.transform_pipeline"
   ]
  },
  {
   "cell_type": "code",
   "execution_count": null,
   "metadata": {},
   "outputs": [
    {
     "name": "stdout",
     "output_type": "stream",
     "text": [
      "Archive created successfully: ../../data/places/places_generated/sampled_images.zip\n",
      "Original folder '../../data/places/places_generated/sampled_images' deleted after zipping.\n"
     ]
    }
   ],
   "source": [
    "data_category = image_generator.sample(\n",
    "    32, output_path='../../data/places/places_generated/'\n",
    ")"
   ]
  },
  {
   "cell_type": "code",
   "execution_count": 18,
   "metadata": {},
   "outputs": [
    {
     "name": "stdout",
     "output_type": "stream",
     "text": [
      "shape: (32, 3)\n",
      "┌───────────┬───────────┬───────┐\n",
      "│ sample-id ┆ timestamp ┆ label │\n",
      "│ ---       ┆ ---       ┆ ---   │\n",
      "│ i64       ┆ f64       ┆ i64   │\n",
      "╞═══════════╪═══════════╪═══════╡\n",
      "│ 0         ┆ 1.7172e9  ┆ 1     │\n",
      "│ 1         ┆ 1.7172e9  ┆ 1     │\n",
      "│ 2         ┆ 1.7172e9  ┆ 0     │\n",
      "│ 3         ┆ 1.7172e9  ┆ 1     │\n",
      "│ 4         ┆ 1.7172e9  ┆ 0     │\n",
      "│ …         ┆ …         ┆ …     │\n",
      "│ 27        ┆ 1.7172e9  ┆ 0     │\n",
      "│ 28        ┆ 1.7172e9  ┆ 0     │\n",
      "│ 29        ┆ 1.7172e9  ┆ 0     │\n",
      "│ 30        ┆ 1.7172e9  ┆ 1     │\n",
      "│ 31        ┆ 1.7172e9  ┆ 1     │\n",
      "└───────────┴───────────┴───────┘\n"
     ]
    }
   ],
   "source": [
    "print(data_category.target)"
   ]
  },
  {
   "cell_type": "code",
   "execution_count": 19,
   "metadata": {},
   "outputs": [
    {
     "name": "stdout",
     "output_type": "stream",
     "text": [
      "shape: (32, 3)\n",
      "┌───────────┬───────────┬─────────────────────────────────┐\n",
      "│ sample-id ┆ timestamp ┆ file_name                       │\n",
      "│ ---       ┆ ---       ┆ ---                             │\n",
      "│ i64       ┆ f64       ┆ str                             │\n",
      "╞═══════════╪═══════════╪═════════════════════════════════╡\n",
      "│ 0         ┆ 1.7172e9  ┆ e6c1313a-589c-4afc-9cb1-d36a95… │\n",
      "│ 1         ┆ 1.7172e9  ┆ c8bc7a53-5aa1-4706-82c4-944d11… │\n",
      "│ 2         ┆ 1.7172e9  ┆ a3bbe67a-2d11-4e83-8206-df016d… │\n",
      "│ 3         ┆ 1.7172e9  ┆ ae1cc5c1-7239-4fb9-90d2-25b74f… │\n",
      "│ 4         ┆ 1.7172e9  ┆ 334df5a3-e337-40c8-bffa-475771… │\n",
      "│ …         ┆ …         ┆ …                               │\n",
      "│ 27        ┆ 1.7172e9  ┆ 5760139c-29da-4a81-b43c-4921df… │\n",
      "│ 28        ┆ 1.7172e9  ┆ 9e4bf50b-81b8-4b34-91ad-5b353a… │\n",
      "│ 29        ┆ 1.7172e9  ┆ fa94bc39-5570-4a8c-a30b-1cae85… │\n",
      "│ 30        ┆ 1.7172e9  ┆ f039a178-6c92-48eb-ad97-ec7673… │\n",
      "│ 31        ┆ 1.7172e9  ┆ 9f50d228-f6bf-4b9a-a445-55e97c… │\n",
      "└───────────┴───────────┴─────────────────────────────────┘\n"
     ]
    }
   ],
   "source": [
    "print(data_category.input_mapping)"
   ]
  },
  {
   "cell_type": "code",
   "execution_count": null,
   "metadata": {},
   "outputs": [
    {
     "name": "stdout",
     "output_type": "stream",
     "text": [
      "FolderType.ZIP\n",
      "/Users/cristian/Personal/data/places/places_generated/sampled_images.zip\n",
      "png\n",
      "True\n",
      "False\n"
     ]
    }
   ],
   "source": [
    "print(data_category.input_folder_type)\n",
    "print(data_category.input_folder)\n",
    "print(data_category.input_file_type)\n",
    "print(data_category.is_input_folder)\n",
    "print(data_category.is_target_folder)\n"
   ]
  },
  {
   "cell_type": "code",
   "execution_count": 21,
   "metadata": {},
   "outputs": [
    {
     "name": "stdout",
     "output_type": "stream",
     "text": [
      "('columns', [ColumnInfo(name='timestamp', role=<ColumnRole.TIME_ID: 'time_id'>, is_nullable=False, data_type=<DataType.FLOAT: 'float'>, predicted_target=None, possible_values=None, model_id=None, dims=None, classes_names=None, subrole=None, image_mode=None), ColumnInfo(name='sample-id', role=<ColumnRole.ID: 'id'>, is_nullable=False, data_type=<DataType.STRING: 'string'>, predicted_target=None, possible_values=None, model_id=None, dims=None, classes_names=None, subrole=None, image_mode=None), ColumnInfo(name='label', role=<ColumnRole.TARGET: 'target'>, is_nullable=False, data_type=<DataType.CATEGORICAL: 'categorical'>, predicted_target=None, possible_values=[0, 1], model_id=None, dims=None, classes_names=None, subrole=None, image_mode=None), ColumnInfo(name='image', role=<ColumnRole.INPUT: 'input'>, is_nullable=False, data_type=<DataType.ARRAY_3: 'array_3'>, predicted_target=None, possible_values=None, model_id=None, dims=(224, 224, 3), classes_names=None, subrole=None, image_mode=<ImageMode.RGB: 'rgb'>)])\n"
     ]
    }
   ],
   "source": [
    "columns = image_generator.get_dataschema()\n",
    "for col in columns:\n",
    "    print(col)"
   ]
  },
  {
   "cell_type": "code",
   "execution_count": null,
   "metadata": {},
   "outputs": [],
   "source": []
  }
 ],
 "metadata": {
  "kernelspec": {
   "display_name": ".venv",
   "language": "python",
   "name": "python3"
  },
  "language_info": {
   "codemirror_mode": {
    "name": "ipython",
    "version": 3
   },
   "file_extension": ".py",
   "mimetype": "text/x-python",
   "name": "python",
   "nbconvert_exporter": "python",
   "pygments_lexer": "ipython3",
   "version": "3.12.7"
  }
 },
 "nbformat": 4,
 "nbformat_minor": 2
}
