{
 "cells": [
  {
   "cell_type": "code",
   "execution_count": 2,
   "metadata": {},
   "outputs": [
    {
     "name": "stdout",
     "output_type": "stream",
     "text": [
      "/Users/cristian/Personal/Projects/image_drift_generator\n"
     ]
    }
   ],
   "source": [
    "%load_ext autoreload\n",
    "%autoreload 2\n",
    "import sys\n",
    "import os\n",
    "\n",
    "while not os.getcwd().endswith('image_drift_generator'):\n",
    "    os.chdir('..')\n",
    "    print(os.getcwd())\n",
    "\n",
    "from image_drift_generator.image_generator import ImageDatasetGenerator\n",
    "from image_drift_generator.image_factory import *\n",
    "import warnings\n",
    "\n",
    "warnings.filterwarnings('ignore')\n",
    "# from alibi_detect.cd import MMDDrift\n",
    "# set tight layout"
   ]
  },
  {
   "cell_type": "code",
   "execution_count": 3,
   "metadata": {},
   "outputs": [],
   "source": [
    "img_path = '../../data/places/'\n",
    "seed = 42"
   ]
  },
  {
   "cell_type": "code",
   "execution_count": 4,
   "metadata": {},
   "outputs": [],
   "source": [
    "image_generator = ImageDatasetGenerator(\n",
    "    seed=seed,\n",
    "    input_path=img_path,\n",
    ")"
   ]
  },
  {
   "cell_type": "code",
   "execution_count": 5,
   "metadata": {},
   "outputs": [],
   "source": [
    "all_transform = [\n",
    "    TransformInfo(\n",
    "        transf_type=ImageTransform.ROTATE,\n",
    "        drift_level=0.9,\n",
    "    ),\n",
    "    TransformInfo(\n",
    "        transf_type=ImageTransform.BRIGHTNESS,\n",
    "        drift_level=0.3,\n",
    "    ),\n",
    "    TransformInfo(\n",
    "        transf_type=ImageTransform.CONTRAST,\n",
    "        drift_level=0.1,\n",
    "    ),\n",
    "    TransformInfo(\n",
    "        transf_type=ImageTransform.HUE,\n",
    "        drift_level=0.1,\n",
    "    ),\n",
    "    TransformInfo(\n",
    "        transf_type=ImageTransform.SATURATION,\n",
    "        drift_level=0.5,\n",
    "    ),\n",
    "    TransformInfo(\n",
    "        transf_type=ImageTransform.GAUSSIAN_BLUR,\n",
    "        drift_level=0.1,\n",
    "    ),\n",
    "    TransformInfo(\n",
    "        transf_type=ImageTransform.GAUSSIAN_NOISE,\n",
    "        drift_level=1.0,\n",
    "    ),\n",
    "]"
   ]
  },
  {
   "cell_type": "code",
   "execution_count": 6,
   "metadata": {},
   "outputs": [],
   "source": [
    "image_generator.add_abrupt_drift(\n",
    "    transform_list=all_transform,\n",
    ")"
   ]
  },
  {
   "cell_type": "code",
   "execution_count": 7,
   "metadata": {},
   "outputs": [
    {
     "data": {
      "text/plain": [
       "Compose(\n",
       "      RandomRotation(degrees=[-81.0, 81.0], interpolation=InterpolationMode.NEAREST, expand=False, fill=0)\n",
       "      ColorJitter(brightness=(0.10000000000000009, 1.9))\n",
       "      ColorJitter(contrast=(0.7, 1.3))\n",
       "      ColorJitter(hue=(-0.05, 0.05))\n",
       "      ColorJitter(saturation=(0.0, 8.5))\n",
       "      GaussianBlur(kernel_size=(5, 5), sigma=[0.30000000000000004, 0.30000000000000004])\n",
       "      GaussianNoise(mean=0.1, sigma=0.5, clip=True)\n",
       ")"
      ]
     },
     "execution_count": 7,
     "metadata": {},
     "output_type": "execute_result"
    }
   ],
   "source": [
    "image_generator.transform_pipeline"
   ]
  },
  {
   "cell_type": "code",
   "execution_count": 8,
   "metadata": {},
   "outputs": [
    {
     "name": "stderr",
     "output_type": "stream",
     "text": [
      "\u001b[32m2025-02-16 21:12:25.153\u001b[0m | \u001b[1mINFO    \u001b[0m | \u001b[36mimage_drift_generator.image_generator\u001b[0m:\u001b[36m_make_archive\u001b[0m:\u001b[36m358\u001b[0m - \u001b[1mArchive created successfully: data/places/places_generated/sampled_images.zip\u001b[0m\n",
      "February 16, 2025 > 21:12:25 | INFO | Archive created successfully: data/places/places_generated/sampled_images.zip | {}\n",
      "\u001b[32m2025-02-16 21:12:25.156\u001b[0m | \u001b[1mINFO    \u001b[0m | \u001b[36mimage_drift_generator.image_generator\u001b[0m:\u001b[36m_make_archive\u001b[0m:\u001b[36m368\u001b[0m - \u001b[1mOriginal folder 'data/places/places_generated/sampled_images' deleted after zipping.\u001b[0m\n",
      "February 16, 2025 > 21:12:25 | INFO | Original folder 'data/places/places_generated/sampled_images' deleted after zipping. | {}\n"
     ]
    }
   ],
   "source": [
    "data_category = image_generator.sample(\n",
    "    32, output_path='data/places/places_generated/'\n",
    ")"
   ]
  },
  {
   "cell_type": "code",
   "execution_count": 9,
   "metadata": {},
   "outputs": [
    {
     "name": "stdout",
     "output_type": "stream",
     "text": [
      "shape: (32, 3)\n",
      "┌───────────┬───────────┬───────┐\n",
      "│ sample-id ┆ timestamp ┆ label │\n",
      "│ ---       ┆ ---       ┆ ---   │\n",
      "│ i64       ┆ f64       ┆ i64   │\n",
      "╞═══════════╪═══════════╪═══════╡\n",
      "│ 0         ┆ 1.7172e9  ┆ 1     │\n",
      "│ 1         ┆ 1.7172e9  ┆ 1     │\n",
      "│ 2         ┆ 1.7172e9  ┆ 0     │\n",
      "│ 3         ┆ 1.7172e9  ┆ 1     │\n",
      "│ 4         ┆ 1.7172e9  ┆ 0     │\n",
      "│ …         ┆ …         ┆ …     │\n",
      "│ 27        ┆ 1.7173e9  ┆ 0     │\n",
      "│ 28        ┆ 1.7173e9  ┆ 0     │\n",
      "│ 29        ┆ 1.7173e9  ┆ 0     │\n",
      "│ 30        ┆ 1.7173e9  ┆ 1     │\n",
      "│ 31        ┆ 1.7173e9  ┆ 1     │\n",
      "└───────────┴───────────┴───────┘\n"
     ]
    }
   ],
   "source": [
    "print(data_category.target)"
   ]
  },
  {
   "cell_type": "code",
   "execution_count": 10,
   "metadata": {},
   "outputs": [
    {
     "name": "stdout",
     "output_type": "stream",
     "text": [
      "shape: (32, 3)\n",
      "┌───────────┬───────────┬─────────────────────────────────┐\n",
      "│ sample-id ┆ timestamp ┆ file_name                       │\n",
      "│ ---       ┆ ---       ┆ ---                             │\n",
      "│ i64       ┆ f64       ┆ str                             │\n",
      "╞═══════════╪═══════════╪═════════════════════════════════╡\n",
      "│ 0         ┆ 1.7172e9  ┆ 4806d4a5-ffbe-4b02-a7aa-82d4ce… │\n",
      "│ 1         ┆ 1.7172e9  ┆ f1d33485-ce3e-419b-84f8-976b80… │\n",
      "│ 2         ┆ 1.7172e9  ┆ eb6e2f35-4d6c-4b23-8e78-37c03e… │\n",
      "│ 3         ┆ 1.7172e9  ┆ 756de38e-4aee-48ee-bded-3ef7f2… │\n",
      "│ 4         ┆ 1.7172e9  ┆ d678f1a5-0433-4fa0-a628-5b9abe… │\n",
      "│ …         ┆ …         ┆ …                               │\n",
      "│ 27        ┆ 1.7173e9  ┆ 4ac00c06-56ef-4ca2-b9e7-a0539d… │\n",
      "│ 28        ┆ 1.7173e9  ┆ 74a39664-f22e-4f7f-8b55-7b9185… │\n",
      "│ 29        ┆ 1.7173e9  ┆ c6deea49-f61c-4992-82f0-83c265… │\n",
      "│ 30        ┆ 1.7173e9  ┆ 0efe55dc-71b4-4dee-b752-765f95… │\n",
      "│ 31        ┆ 1.7173e9  ┆ ca35d245-1351-4cb4-97f6-25e4bc… │\n",
      "└───────────┴───────────┴─────────────────────────────────┘\n"
     ]
    }
   ],
   "source": [
    "print(data_category.input_mapping)"
   ]
  },
  {
   "cell_type": "code",
   "execution_count": 11,
   "metadata": {},
   "outputs": [
    {
     "name": "stdout",
     "output_type": "stream",
     "text": [
      "zip\n",
      "/Users/cristian/Personal/Projects/image_drift_generator/data/places/places_generated/sampled_images.zip\n",
      "png\n",
      "True\n",
      "False\n"
     ]
    }
   ],
   "source": [
    "print(data_category.input_folder_type)\n",
    "print(data_category.input_folder)\n",
    "print(data_category.input_file_type)\n",
    "print(data_category.is_input_folder)\n",
    "print(data_category.is_target_folder)\n"
   ]
  },
  {
   "cell_type": "code",
   "execution_count": null,
   "metadata": {},
   "outputs": [],
   "source": []
  }
 ],
 "metadata": {
  "kernelspec": {
   "display_name": ".venv",
   "language": "python",
   "name": "python3"
  },
  "language_info": {
   "codemirror_mode": {
    "name": "ipython",
    "version": 3
   },
   "file_extension": ".py",
   "mimetype": "text/x-python",
   "name": "python",
   "nbconvert_exporter": "python",
   "pygments_lexer": "ipython3",
   "version": "3.12.7"
  }
 },
 "nbformat": 4,
 "nbformat_minor": 2
}
