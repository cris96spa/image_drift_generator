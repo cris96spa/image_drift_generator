{
 "cells": [
  {
   "cell_type": "code",
   "execution_count": 1,
   "metadata": {},
   "outputs": [
    {
     "name": "stdout",
     "output_type": "stream",
     "text": [
      "c:\\Users\\crist\\projects\\image_drift_generator\n"
     ]
    }
   ],
   "source": [
    "%load_ext autoreload\n",
    "%autoreload 2\n",
    "import sys\n",
    "import os\n",
    "\n",
    "while not os.getcwd().endswith('image_drift_generator'):\n",
    "    os.chdir('..')\n",
    "    print(os.getcwd())\n",
    "\n",
    "from image_drift_generator.image_generator import ImageDatasetGenerator\n",
    "from image_drift_generator.image_factory import *\n",
    "import warnings\n",
    "\n",
    "warnings.filterwarnings('ignore')\n",
    "# from alibi_detect.cd import MMDDrift\n",
    "# set tight layout"
   ]
  },
  {
   "cell_type": "code",
   "execution_count": 2,
   "metadata": {},
   "outputs": [],
   "source": [
    "img_path = '../../data/places/'\n",
    "seed = 42"
   ]
  },
  {
   "cell_type": "code",
   "execution_count": 3,
   "metadata": {},
   "outputs": [],
   "source": [
    "image_generator = ImageDatasetGenerator(\n",
    "    seed=seed,\n",
    "    input_path=img_path,\n",
    ")"
   ]
  },
  {
   "cell_type": "code",
   "execution_count": 4,
   "metadata": {},
   "outputs": [],
   "source": [
    "all_transform = [\n",
    "    TransformInfo(\n",
    "        transf_type=ImageTransform.ROTATE,\n",
    "        drift_level=0.9,\n",
    "    ),\n",
    "    TransformInfo(\n",
    "        transf_type=ImageTransform.BRIGHTNESS,\n",
    "        drift_level=0.3,\n",
    "    ),\n",
    "    TransformInfo(\n",
    "        transf_type=ImageTransform.CONTRAST,\n",
    "        drift_level=0.1,\n",
    "    ),\n",
    "    TransformInfo(\n",
    "        transf_type=ImageTransform.HUE,\n",
    "        drift_level=0.1,\n",
    "    ),\n",
    "    TransformInfo(\n",
    "        transf_type=ImageTransform.SATURATION,\n",
    "        drift_level=0.5,\n",
    "    ),\n",
    "    TransformInfo(\n",
    "        transf_type=ImageTransform.GAUSSIAN_BLUR,\n",
    "        drift_level=0.1,\n",
    "    ),\n",
    "    TransformInfo(\n",
    "        transf_type=ImageTransform.GAUSSIAN_NOISE,\n",
    "        drift_level=1.0,\n",
    "    ),\n",
    "]"
   ]
  },
  {
   "cell_type": "code",
   "execution_count": 5,
   "metadata": {},
   "outputs": [],
   "source": [
    "image_generator.add_abrupt_drift(\n",
    "    transform_list=all_transform,\n",
    ")"
   ]
  },
  {
   "cell_type": "code",
   "execution_count": 6,
   "metadata": {},
   "outputs": [
    {
     "data": {
      "text/plain": [
       "Compose(\n",
       "      RandomRotation(degrees=[-81.0, 81.0], interpolation=InterpolationMode.NEAREST, expand=False, fill=0)\n",
       "      ColorJitter(brightness=(0.10000000000000009, 1.9))\n",
       "      ColorJitter(contrast=(0.7, 1.3))\n",
       "      ColorJitter(hue=(-0.05, 0.05))\n",
       "      ColorJitter(saturation=(0.0, 8.5))\n",
       "      GaussianBlur(kernel_size=(5, 5), sigma=[0.30000000000000004, 0.30000000000000004])\n",
       "      GaussianNoise(mean=0.1, sigma=0.5, clip=True)\n",
       ")"
      ]
     },
     "execution_count": 6,
     "metadata": {},
     "output_type": "execute_result"
    }
   ],
   "source": [
    "image_generator.transform_pipeline"
   ]
  },
  {
   "cell_type": "code",
   "execution_count": 7,
   "metadata": {},
   "outputs": [
    {
     "name": "stderr",
     "output_type": "stream",
     "text": [
      "\u001b[32m2025-02-16 23:37:17.428\u001b[0m | \u001b[1mINFO    \u001b[0m | \u001b[36mimage_drift_generator.image_generator\u001b[0m:\u001b[36m_make_archive\u001b[0m:\u001b[36m364\u001b[0m - \u001b[1mArchive created successfully: data/places/places_generated/sampled_images.zip\u001b[0m\n",
      "February 16, 2025 > 23:37:17 | INFO | Archive created successfully: data/places/places_generated/sampled_images.zip | {}\n",
      "\u001b[32m2025-02-16 23:37:17.432\u001b[0m | \u001b[1mINFO    \u001b[0m | \u001b[36mimage_drift_generator.image_generator\u001b[0m:\u001b[36m_make_archive\u001b[0m:\u001b[36m374\u001b[0m - \u001b[1mOriginal folder 'data/places/places_generated/sampled_images' deleted after zipping.\u001b[0m\n",
      "February 16, 2025 > 23:37:17 | INFO | Original folder 'data/places/places_generated/sampled_images' deleted after zipping. | {}\n"
     ]
    }
   ],
   "source": [
    "data_category = image_generator.sample(\n",
    "    32, output_path='data/places/places_generated/'\n",
    ")"
   ]
  },
  {
   "cell_type": "code",
   "execution_count": 8,
   "metadata": {},
   "outputs": [
    {
     "name": "stdout",
     "output_type": "stream",
     "text": [
      "shape: (32, 3)\n",
      "┌───────────┬───────────┬───────┐\n",
      "│ sample-id ┆ timestamp ┆ label │\n",
      "│ ---       ┆ ---       ┆ ---   │\n",
      "│ i64       ┆ f64       ┆ i64   │\n",
      "╞═══════════╪═══════════╪═══════╡\n",
      "│ 0         ┆ 1.7172e9  ┆ 0     │\n",
      "│ 1         ┆ 1.7172e9  ┆ 1     │\n",
      "│ 2         ┆ 1.7172e9  ┆ 1     │\n",
      "│ 3         ┆ 1.7172e9  ┆ 1     │\n",
      "│ 4         ┆ 1.7172e9  ┆ 1     │\n",
      "│ …         ┆ …         ┆ …     │\n",
      "│ 27        ┆ 1.7173e9  ┆ 0     │\n",
      "│ 28        ┆ 1.7173e9  ┆ 0     │\n",
      "│ 29        ┆ 1.7173e9  ┆ 1     │\n",
      "│ 30        ┆ 1.7173e9  ┆ 0     │\n",
      "│ 31        ┆ 1.7173e9  ┆ 0     │\n",
      "└───────────┴───────────┴───────┘\n"
     ]
    }
   ],
   "source": [
    "print(data_category.target)"
   ]
  },
  {
   "cell_type": "code",
   "execution_count": 9,
   "metadata": {},
   "outputs": [
    {
     "name": "stdout",
     "output_type": "stream",
     "text": [
      "shape: (32, 3)\n",
      "┌───────────┬───────────┬─────────────────────────────────┐\n",
      "│ sample-id ┆ timestamp ┆ file_name                       │\n",
      "│ ---       ┆ ---       ┆ ---                             │\n",
      "│ i64       ┆ f64       ┆ str                             │\n",
      "╞═══════════╪═══════════╪═════════════════════════════════╡\n",
      "│ 0         ┆ 1.7172e9  ┆ 02b05eaa-aa45-4977-90ca-94d00f… │\n",
      "│ 1         ┆ 1.7172e9  ┆ ce769bab-85e4-4377-9345-b44bf8… │\n",
      "│ 2         ┆ 1.7172e9  ┆ cf1fc920-84b0-448e-acc9-57bc3e… │\n",
      "│ 3         ┆ 1.7172e9  ┆ 6c681fe5-254e-4e41-a182-10f48e… │\n",
      "│ 4         ┆ 1.7172e9  ┆ c15e6ebf-93a3-4d67-bf31-0d8145… │\n",
      "│ …         ┆ …         ┆ …                               │\n",
      "│ 27        ┆ 1.7173e9  ┆ 68130576-0d86-4df3-9a02-4f3aed… │\n",
      "│ 28        ┆ 1.7173e9  ┆ 66a11c9c-8ab3-4c0d-9f88-db5bfb… │\n",
      "│ 29        ┆ 1.7173e9  ┆ 5cc37567-7112-4ecc-b24b-a30010… │\n",
      "│ 30        ┆ 1.7173e9  ┆ 553287ef-dd22-4837-b02e-cb690c… │\n",
      "│ 31        ┆ 1.7173e9  ┆ 9d17885d-bae5-418c-9b70-b59357… │\n",
      "└───────────┴───────────┴─────────────────────────────────┘\n"
     ]
    }
   ],
   "source": [
    "print(data_category.input_mapping)"
   ]
  },
  {
   "cell_type": "code",
   "execution_count": 10,
   "metadata": {},
   "outputs": [
    {
     "name": "stdout",
     "output_type": "stream",
     "text": [
      "zip\n",
      "c:\\Users\\crist\\projects\\image_drift_generator\\data\\places\\places_generated\\sampled_images.zip\n",
      "png\n",
      "True\n",
      "False\n"
     ]
    }
   ],
   "source": [
    "print(data_category.input_folder_type)\n",
    "print(data_category.input_folder)\n",
    "print(data_category.input_file_type)\n",
    "print(data_category.is_input_folder)\n",
    "print(data_category.is_target_folder)\n"
   ]
  },
  {
   "cell_type": "code",
   "execution_count": null,
   "metadata": {},
   "outputs": [],
   "source": []
  }
 ],
 "metadata": {
  "kernelspec": {
   "display_name": ".venv",
   "language": "python",
   "name": "python3"
  },
  "language_info": {
   "codemirror_mode": {
    "name": "ipython",
    "version": 3
   },
   "file_extension": ".py",
   "mimetype": "text/x-python",
   "name": "python",
   "nbconvert_exporter": "python",
   "pygments_lexer": "ipython3",
   "version": "3.12.6"
  }
 },
 "nbformat": 4,
 "nbformat_minor": 2
}
